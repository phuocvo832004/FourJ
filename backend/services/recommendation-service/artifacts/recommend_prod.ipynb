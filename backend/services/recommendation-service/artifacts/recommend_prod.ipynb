{
 "cells": [
  {
   "cell_type": "code",
   "execution_count": 2,
   "id": "1c79810d",
   "metadata": {},
   "outputs": [],
   "source": [
    "import pandas as pd\n",
    "import numpy as np\n",
    "from scipy.sparse import csr_matrix\n"
   ]
  },
  {
   "cell_type": "code",
   "execution_count": 4,
   "id": "833ea613",
   "metadata": {},
   "outputs": [],
   "source": [
    "# Đọc dữ liệu đơn hàng\n",
    "orders = pd.read_csv('orders.xls')\n",
    "\n",
    "# Đọc chi tiết sản phẩm đã mua trong đơn hàng\n",
    "order_products_prior = pd.read_csv('order_products__prior.csv')\n",
    "order_products_train = pd.read_csv('order_products__train.csv')\n",
    "\n",
    "# Đọc sản phẩm\n",
    "products = pd.read_csv('products.csv')\n"
   ]
  },
  {
   "cell_type": "code",
   "execution_count": 5,
   "id": "c5cb9ae7",
   "metadata": {},
   "outputs": [
    {
     "data": {
      "text/html": [
       "<div>\n",
       "<style scoped>\n",
       "    .dataframe tbody tr th:only-of-type {\n",
       "        vertical-align: middle;\n",
       "    }\n",
       "\n",
       "    .dataframe tbody tr th {\n",
       "        vertical-align: top;\n",
       "    }\n",
       "\n",
       "    .dataframe thead th {\n",
       "        text-align: right;\n",
       "    }\n",
       "</style>\n",
       "<table border=\"1\" class=\"dataframe\">\n",
       "  <thead>\n",
       "    <tr style=\"text-align: right;\">\n",
       "      <th></th>\n",
       "      <th>user_id</th>\n",
       "      <th>product_id</th>\n",
       "    </tr>\n",
       "  </thead>\n",
       "  <tbody>\n",
       "    <tr>\n",
       "      <th>0</th>\n",
       "      <td>202279</td>\n",
       "      <td>33120</td>\n",
       "    </tr>\n",
       "    <tr>\n",
       "      <th>1</th>\n",
       "      <td>202279</td>\n",
       "      <td>28985</td>\n",
       "    </tr>\n",
       "    <tr>\n",
       "      <th>2</th>\n",
       "      <td>202279</td>\n",
       "      <td>9327</td>\n",
       "    </tr>\n",
       "    <tr>\n",
       "      <th>3</th>\n",
       "      <td>202279</td>\n",
       "      <td>45918</td>\n",
       "    </tr>\n",
       "    <tr>\n",
       "      <th>4</th>\n",
       "      <td>202279</td>\n",
       "      <td>30035</td>\n",
       "    </tr>\n",
       "  </tbody>\n",
       "</table>\n",
       "</div>"
      ],
      "text/plain": [
       "   user_id  product_id\n",
       "0   202279       33120\n",
       "1   202279       28985\n",
       "2   202279        9327\n",
       "3   202279       45918\n",
       "4   202279       30035"
      ]
     },
     "execution_count": 5,
     "metadata": {},
     "output_type": "execute_result"
    }
   ],
   "source": [
    "# Chỉ lấy đơn hàng \"prior\"\n",
    "orders_prior = orders[orders['eval_set'] == 'prior']\n",
    "\n",
    "# Join đơn hàng với sản phẩm đã mua\n",
    "prior_merged = pd.merge(order_products_prior, orders_prior, on='order_id')\n",
    "\n",
    "# Chỉ lấy các cột cần thiết\n",
    "user_product = prior_merged[['user_id', 'product_id']]\n",
    "\n",
    "user_product.head()\n"
   ]
  },
  {
   "cell_type": "code",
   "execution_count": 6,
   "id": "e42d2693",
   "metadata": {},
   "outputs": [
    {
     "data": {
      "text/html": [
       "<div>\n",
       "<style scoped>\n",
       "    .dataframe tbody tr th:only-of-type {\n",
       "        vertical-align: middle;\n",
       "    }\n",
       "\n",
       "    .dataframe tbody tr th {\n",
       "        vertical-align: top;\n",
       "    }\n",
       "\n",
       "    .dataframe thead th {\n",
       "        text-align: right;\n",
       "    }\n",
       "</style>\n",
       "<table border=\"1\" class=\"dataframe\">\n",
       "  <thead>\n",
       "    <tr style=\"text-align: right;\">\n",
       "      <th></th>\n",
       "      <th>user_id</th>\n",
       "      <th>product_id</th>\n",
       "      <th>times_purchased</th>\n",
       "    </tr>\n",
       "  </thead>\n",
       "  <tbody>\n",
       "    <tr>\n",
       "      <th>0</th>\n",
       "      <td>1</td>\n",
       "      <td>196</td>\n",
       "      <td>10</td>\n",
       "    </tr>\n",
       "    <tr>\n",
       "      <th>1</th>\n",
       "      <td>1</td>\n",
       "      <td>10258</td>\n",
       "      <td>9</td>\n",
       "    </tr>\n",
       "    <tr>\n",
       "      <th>2</th>\n",
       "      <td>1</td>\n",
       "      <td>10326</td>\n",
       "      <td>1</td>\n",
       "    </tr>\n",
       "    <tr>\n",
       "      <th>3</th>\n",
       "      <td>1</td>\n",
       "      <td>12427</td>\n",
       "      <td>10</td>\n",
       "    </tr>\n",
       "    <tr>\n",
       "      <th>4</th>\n",
       "      <td>1</td>\n",
       "      <td>13032</td>\n",
       "      <td>3</td>\n",
       "    </tr>\n",
       "  </tbody>\n",
       "</table>\n",
       "</div>"
      ],
      "text/plain": [
       "   user_id  product_id  times_purchased\n",
       "0        1         196               10\n",
       "1        1       10258                9\n",
       "2        1       10326                1\n",
       "3        1       12427               10\n",
       "4        1       13032                3"
      ]
     },
     "execution_count": 6,
     "metadata": {},
     "output_type": "execute_result"
    }
   ],
   "source": [
    "# Đếm số lần user mua sản phẩm\n",
    "user_product_counts = user_product.groupby(['user_id', 'product_id']).size().reset_index(name='times_purchased')\n",
    "\n",
    "user_product_counts.head()\n"
   ]
  },
  {
   "cell_type": "code",
   "execution_count": 7,
   "id": "13c4cd4a",
   "metadata": {},
   "outputs": [
    {
     "data": {
      "text/plain": [
       "<Compressed Sparse Row sparse matrix of dtype 'int64'\n",
       "\twith 13307953 stored elements and shape (206209, 49677)>"
      ]
     },
     "execution_count": 7,
     "metadata": {},
     "output_type": "execute_result"
    }
   ],
   "source": [
    "# Encode user_id và product_id thành chỉ số (index bắt đầu từ 0)\n",
    "from sklearn.preprocessing import LabelEncoder\n",
    "\n",
    "user_encoder = LabelEncoder()\n",
    "product_encoder = LabelEncoder()\n",
    "\n",
    "user_product_counts['user_idx'] = user_encoder.fit_transform(user_product_counts['user_id'])\n",
    "user_product_counts['product_idx'] = product_encoder.fit_transform(user_product_counts['product_id'])\n",
    "\n",
    "# Tạo sparse matrix\n",
    "interaction_matrix = csr_matrix((\n",
    "    user_product_counts['times_purchased'],\n",
    "    (user_product_counts['user_idx'], user_product_counts['product_idx'])\n",
    "))\n",
    "\n",
    "interaction_matrix\n"
   ]
  },
  {
   "cell_type": "code",
   "execution_count": 8,
   "id": "69485a55",
   "metadata": {},
   "outputs": [
    {
     "name": "stdout",
     "output_type": "stream",
     "text": [
      "Number of users: 206209\n",
      "Number of products: 49677\n"
     ]
    }
   ],
   "source": [
    "print('Number of users:', interaction_matrix.shape[0])\n",
    "print('Number of products:', interaction_matrix.shape[1])\n"
   ]
  },
  {
   "cell_type": "code",
   "execution_count": 9,
   "id": "ac227451",
   "metadata": {},
   "outputs": [
    {
     "name": "stderr",
     "output_type": "stream",
     "text": [
      "c:\\Users\\Admin\\AppData\\Local\\Programs\\Python\\Python313\\Lib\\site-packages\\implicit\\cpu\\als.py:95: RuntimeWarning: OpenBLAS is configured to use 20 threads. It is highly recommended to disable its internal threadpool by setting the environment variable 'OPENBLAS_NUM_THREADS=1' or by calling 'threadpoolctl.threadpool_limits(1, \"blas\")'. Having OpenBLAS use a threadpool can lead to severe performance issues here.\n",
      "  check_blas_config()\n",
      "c:\\Users\\Admin\\AppData\\Local\\Programs\\Python\\Python313\\Lib\\site-packages\\implicit\\utils.py:164: ParameterWarning: Method expects CSR input, and was passed csc_matrix instead. Converting to CSR took 0.19024324417114258 seconds\n",
      "  warnings.warn(\n"
     ]
    },
    {
     "data": {
      "application/vnd.jupyter.widget-view+json": {
       "model_id": "5618c37c829b4e1e8598ca5c8d1cf025",
       "version_major": 2,
       "version_minor": 0
      },
      "text/plain": [
       "  0%|          | 0/20 [00:00<?, ?it/s]"
      ]
     },
     "metadata": {},
     "output_type": "display_data"
    }
   ],
   "source": [
    "import implicit\n",
    "\n",
    "# Dùng GPU nếu có (cuda), còn không thì dùng CPU\n",
    "model = implicit.als.AlternatingLeastSquares(\n",
    "    factors=50,          # số lượng latent factors (embedding size)\n",
    "    regularization=0.01, # hệ số regularization để tránh overfitting\n",
    "    iterations=20,       # số vòng lặp\n",
    "    random_state=42\n",
    ")\n",
    "\n",
    "# implicit yêu cầu chuyển data thành item-user matrix (transpose)\n",
    "item_user_matrix = interaction_matrix.T\n",
    "\n",
    "# Fit model\n",
    "model.fit(item_user_matrix)\n"
   ]
  },
  {
   "cell_type": "code",
   "execution_count": 10,
   "id": "3c241b97",
   "metadata": {},
   "outputs": [],
   "source": [
    "target_user_id = 1\n",
    "user_idx = user_encoder.transform([target_user_id])[0]\n",
    "\n",
    "# Lấy sparse vector user\n",
    "user_items_single = item_user_matrix.T[user_idx]\n",
    "\n",
    "# Recommend\n",
    "recommended = model.recommend(\n",
    "    userid=0,\n",
    "    user_items=user_items_single,\n",
    "    N=10,\n",
    "    filter_already_liked_items=True\n",
    ")\n",
    "\n",
    "\n"
   ]
  },
  {
   "cell_type": "code",
   "execution_count": 11,
   "id": "004a744a",
   "metadata": {},
   "outputs": [
    {
     "name": "stdout",
     "output_type": "stream",
     "text": [
      "      product_id                product_name\n",
      "0              1  Chocolate Sandwich Cookies\n",
      "5589        5590              Oatmeal Cereal\n"
     ]
    }
   ],
   "source": [
    "# Lấy item_idx và ép kiểu int\n",
    "recommended_product_idxs = [int(item[0]) for item in recommended]\n",
    "\n",
    "# Decode product_idx → product_id\n",
    "recommended_product_ids = product_encoder.inverse_transform(recommended_product_idxs)\n",
    "\n",
    "# Lấy tên sản phẩm\n",
    "recommended_products = products[products['product_id'].isin(recommended_product_ids)]\n",
    "\n",
    "print(recommended_products[['product_id', 'product_name']])"
   ]
  },
  {
   "cell_type": "code",
   "execution_count": 12,
   "id": "1f688972",
   "metadata": {},
   "outputs": [],
   "source": [
    "import pickle\n",
    "\n",
    "# Lưu model\n",
    "with open('als_model.pkl', 'wb') as f:\n",
    "    pickle.dump(model, f)\n"
   ]
  },
  {
   "cell_type": "code",
   "execution_count": 13,
   "id": "f6982a62",
   "metadata": {},
   "outputs": [
    {
     "name": "stdout",
     "output_type": "stream",
     "text": [
      "      product_id                product_name\n",
      "0              1  Chocolate Sandwich Cookies\n",
      "5589        5590              Oatmeal Cereal\n"
     ]
    }
   ],
   "source": [
    "# Tải lại model\n",
    "with open('als_model.pkl', 'rb') as f:\n",
    "    loaded_model = pickle.load(f)\n",
    "\n",
    "# Kiểm tra model đã tải lại có thể dự đoán\n",
    "recommended = loaded_model.recommend(\n",
    "    userid=0,\n",
    "    user_items=user_items_single,\n",
    "    N=10,\n",
    "    filter_already_liked_items=True\n",
    ")\n",
    "\n",
    "# In ra các sản phẩm được đề xuất\n",
    "recommended_product_idxs = [int(item[0]) for item in recommended]\n",
    "recommended_product_ids = product_encoder.inverse_transform(recommended_product_idxs)\n",
    "recommended_products = products[products['product_id'].isin(recommended_product_ids)]\n",
    "\n",
    "print(recommended_products[['product_id', 'product_name']])\n"
   ]
  },
  {
   "cell_type": "code",
   "execution_count": 14,
   "id": "8dc58e5d",
   "metadata": {},
   "outputs": [],
   "source": [
    "import pickle\n",
    "from scipy.sparse import save_npz\n",
    "\n",
    "# --- Thêm đoạn code này ---\n",
    "# Lưu user encoder\n",
    "with open('user_encoder.pkl', 'wb') as f:\n",
    "    pickle.dump(user_encoder, f)\n",
    "\n",
    "# Lưu product encoder\n",
    "with open('product_encoder.pkl', 'wb') as f:\n",
    "    pickle.dump(product_encoder, f)\n",
    "\n",
    "# Lưu user-item interaction matrix (cần cho model.recommend)\n",
    "# Lưu ý: Đây là ma trận user-item gốc, không phải ma trận đã transpose (item-user) dùng để fit\n",
    "save_npz('interaction_matrix.npz', interaction_matrix)\n",
    "# --- Kết thúc đoạn code thêm ---\n",
    "\n"
   ]
  }
 ],
 "metadata": {
  "kernelspec": {
   "display_name": "Python 3",
   "language": "python",
   "name": "python3"
  },
  "language_info": {
   "codemirror_mode": {
    "name": "ipython",
    "version": 3
   },
   "file_extension": ".py",
   "mimetype": "text/x-python",
   "name": "python",
   "nbconvert_exporter": "python",
   "pygments_lexer": "ipython3",
   "version": "3.13.2"
  }
 },
 "nbformat": 4,
 "nbformat_minor": 5
}
